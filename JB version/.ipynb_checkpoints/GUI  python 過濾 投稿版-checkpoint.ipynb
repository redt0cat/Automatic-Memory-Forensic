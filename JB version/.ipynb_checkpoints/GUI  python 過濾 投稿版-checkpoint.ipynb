{
 "cells": [
  {
   "cell_type": "code",
   "execution_count": 1,
   "metadata": {},
   "outputs": [],
   "source": [
    "from tkinter import *\n",
    "import tkinter.filedialog\n",
    "import requests, re, time, csv   #導入 \n",
    "root = Tk()\n",
    "root.title(\"IM Automated Filter\")    #視窗標題\n",
    "root.geometry(\"700x400\")             #視窗寬度高度\n",
    "root.configure(bg='#81D8D0')         #背景顏色\n",
    "\n",
    "def choosefile():\n",
    "    global filename\n",
    "    filename = tkinter.filedialog.askopenfilename()\n",
    "    if filename != '':\n",
    "        lb.config(text = \"\"+filename);\n",
    "    else:\n",
    "        lb.config(text = \"尚未選擇\");"
   ]
  },
  {
   "cell_type": "code",
   "execution_count": 2,
   "metadata": {},
   "outputs": [],
   "source": [
    "#LINE的正規化   \n",
    "def regLINEWIN10():\n",
    "    global regex\n",
    "    regex = r'''(\n",
    "            from?[\\\"]?[\\:]?[\\\"]+\\w{1,33}\\D\\D\\D+                      #傳送者\n",
    "            to?[\\\"]?[\\:]?[\\\"]+\\w{1,33}\\D\\D\\D+                        #接收者\n",
    "            toType?[\\\"]?[\\:]+\\w{1}\\D\\D+                              #toType    <--有 0,1,2\n",
    "            id?[\\\"]?[\\:]?[\\\"]+\\w{13}\\D\\D\\D+                          #id\n",
    "            createdTime?[\\\"]?[\\:]+\\w{13}\\D\\D+                        #createdTime    <--可用unix timestamp 轉換成日期\n",
    "            deliveredTime?[\\\"]?[\\:]\\w{1}..?                          #deliveredTime  <--全部都接0  (測試未傳送完成的差異)\n",
    "            text+[\\\"]?[\\:]?[\\\"].+?                                   #聊天內容\n",
    "            hasContent+[\\\"]?[\\:].+?[\\\"]+                             #\"hasContent\":false,\n",
    "            contentType+[\\\"]?[\\:].+?[\\\"]+\n",
    "            contentMetadata+[\\\"]?[\\:].+?[\\,]?[\"]+                    #<--不確定其格式\n",
    "            sessionId+[\\\"]?[\\:].+?[\\\"]+                              #sessionId\n",
    "            location+[\\\"]?[\\:].+?[\\\"]+                               #<--這部可用在前半段最後一格˙\n",
    "            chunks+[\\\"]?[\\:].+?[\\\"]+\n",
    "            type+[\\\"]?[\\:]\\w{1,3}?[\\,]?[\\\"]+\n",
    "            status+[\\\"]?[\\:]\\w{1,3}?[\\,]?[\\\"]+\n",
    "            chatId+[\\\"]?[\\:]?[\\\"]\\w{1,33}?[\\\"]?[\\,]?[\\\"]+\n",
    "            readCount+[\\\"]?[\\:]\\w{1,3}?[\\,]?[\\\"]+\n",
    "            reqSeqV2+[\\\"]?[\\:].+?[\\\"]+\n",
    "            contentInfo+[\\\"]?[\\:].+?[\\\"]+\n",
    "            eventInfo+[\\\"]?[\\:].+?[\\\"]+\n",
    "            rev+[\\\"]?[\\:].+?[\\\"]+                     \n",
    "            errorCode+[\\\"]?[\\:].+?[\\\"]+\n",
    "            urlPreview+[\\\"]?[\\:].+?[\\\"]+                             #看傳連結是否會顯示網址\n",
    "            hasUrlPreview+[\\\"]?[\\:].+?[\\\"]+                         #看傳連結是否顯示為true\n",
    "            syncToken+[\\\"]?[\\:].+?[\\\"]?[\\,]?[\\\"]+\n",
    "            fromType\n",
    "            )'''\n",
    "    lb2.config(text = \"\"+regex)\n",
    "    \n",
    "def regLINEANDROID():\n",
    "    global regex\n",
    "    regex =  r'''(\n",
    "            \\w{33}.{1,50}?         #接受者ID+文字訊息\n",
    "            \\d{26}\\\\n\\'\\,.\\'?            #時間戳記\n",
    "            MENTION\\\\t\\\\t?\n",
    "            REPLACE\\\\t\\\\t?\n",
    "            STICON\\\\n\\'\\,.\\'?\n",
    "            OWNERSHIP\\\\t\\\\t?\n",
    "            PREVIEW\\\\n\\'\\,.\\'?\n",
    "            ENABLED\\\\t?\n",
    "            true\\\\t?\n",
    "            message\\\\n\\'\\,.....................................................\n",
    "            )'''\n",
    "    lb2.config(text = \"\"+regex) "
   ]
  },
  {
   "cell_type": "code",
   "execution_count": 3,
   "metadata": {},
   "outputs": [],
   "source": [
    "def filter():\n",
    "    fp = open(filename)\n",
    "    string = fp.readlines()\n",
    "    strings = str(string)\n",
    "    starttime = time.clock()    #計算開始時間\n",
    "    fo = open(filename+\"new.txt\",\"w\")\n",
    "    emails = re.findall(regex,strings, re.VERBOSE)  #以pattern找尋要找的資料 並印出\n",
    "    for email in emails:\n",
    "        fo.write( \"%s\\n\" %email )\n",
    "    fp.close()\n",
    "    fo.close()\n",
    "    endtime = time.clock()             # 輸出執行時間"
   ]
  },
  {
   "cell_type": "code",
   "execution_count": 4,
   "metadata": {},
   "outputs": [],
   "source": [
    "lbchoose = Label(root,text = 'Instant Messenger Automated Filter',bg=\"#81D8D0\",font=\"Georgia 25 bold\") \n",
    "lbchoose.place(x=40,y=10)\n",
    "lb = Label(root,text = '選擇過濾檔案-請點選右邊按鈕------------>',font=\"Helvetic 12 bold\",bg=\"white\",width=58)\n",
    "lb.place(x=30,y=80)\n",
    "btn = Button(root,text=\".....\",command=choosefile,bg='#FFFFFF')\n",
    "btn.place(x=625,y=80)\n",
    "#LINE-button\n",
    "LINEp = PhotoImage(file=\"line.png\")\n",
    "btnLINEWIN10 = Button(root,image=LINEp,text = 'LINE -Win10',command=regLINEWIN10,compound=TOP,bg=\"#81D8D0\",font=\"Helvetic 10 bold\")     #讀取WIN10正規\n",
    "btnLINEWIN10.place(x=30,y=120)\n",
    "btnLINEANDROID = Button(root,image=LINEp,text = 'LINE-Android',command=regLINEANDROID,compound=TOP,bg=\"#81D8D0\",font=\"Helvetic 10 bold\")     #讀取android正規\n",
    "btnLINEANDROID.place(x=150,y=120)\n",
    "\n",
    "\n",
    "lb2 = Label(root,text = '正規化演算法',bg=\"white\",width=50,height=15)\n",
    "lb2.place(x=275,y=120)\n",
    "btnst = Button(root,text = 'START!',command=filter,width=12,height=1,fg='#FFFFFF',bg='#000000',font=\"Helvetic 20 bold\")     \n",
    "#開始正規化\n",
    "btnst.place(x=30,y=260)\n",
    "\n",
    "\n",
    "root.mainloop()"
   ]
  },
  {
   "cell_type": "code",
   "execution_count": 5,
   "metadata": {},
   "outputs": [],
   "source": []
  },
  {
   "cell_type": "code",
   "execution_count": 6,
   "metadata": {},
   "outputs": [],
   "source": []
  },
  {
   "cell_type": "code",
   "execution_count": null,
   "metadata": {},
   "outputs": [],
   "source": []
  },
  {
   "cell_type": "code",
   "execution_count": null,
   "metadata": {},
   "outputs": [],
   "source": []
  }
 ],
 "metadata": {
  "kernelspec": {
   "display_name": "Python 3",
   "language": "python",
   "name": "python3"
  },
  "language_info": {
   "codemirror_mode": {
    "name": "ipython",
    "version": 3
   },
   "file_extension": ".py",
   "mimetype": "text/x-python",
   "name": "python",
   "nbconvert_exporter": "python",
   "pygments_lexer": "ipython3",
   "version": "3.6.5"
  }
 },
 "nbformat": 4,
 "nbformat_minor": 2
}
