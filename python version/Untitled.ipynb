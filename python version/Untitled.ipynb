{
 "cells": [
  {
   "cell_type": "code",
   "execution_count": 8,
   "metadata": {},
   "outputs": [
    {
     "name": "stdout",
     "output_type": "stream",
     "text": [
      "8.6\n"
     ]
    }
   ],
   "source": [
    "from  tkinter import*\n",
    "\n",
    "print(tkinter.TkVersion)"
   ]
  },
  {
   "cell_type": "code",
   "execution_count": 28,
   "metadata": {},
   "outputs": [],
   "source": [
    "root = Tk()\n",
    "root.title(\"Forensic\")\n",
    "root.geometry(\"300x160\")\n",
    "root.configure(bg='black')\n",
    "screenwidth = root.winfo_screenwidth()\n",
    "screenheight = root.winfo_screenheight()\n",
    "w = 300 \n",
    "h = 160\n",
    "\n",
    "def msgshow():\n",
    "    label[\"text\"] = \"III\"\n",
    "    label[\"bg\"] = \"lightyellow\"\n",
    "    label[\"fg\"] = \"blue\"\n",
    "\n",
    "\n",
    "root.title(\"標籤測試\")\n",
    "label = Label(root)\n",
    "bth = Button(root,text=\"print msgshow\",command=msgshow)\n",
    "bth.pack()\n",
    "label.pack()\n",
    "\n",
    "root.mainloop()"
   ]
  },
  {
   "cell_type": "code",
   "execution_count": 38,
   "metadata": {},
   "outputs": [],
   "source": [
    "from tkinter import *\n",
    "\n",
    "counter = 0\n",
    "def run_counter(digit):\n",
    "    def counting():\n",
    "        global counter\n",
    "        counter += 3\n",
    "        digit.config(text=str(counter))\n",
    "        digit.after(1000,counting)\n",
    "    counting()\n",
    "    \n",
    "root = Tk()\n",
    "root.title(\"123\")\n",
    "digit=Label(root,bg=\"black\",fg=\"red\",height=3,width=10,font=\"helvetic 20 bold\")\n",
    "digit.pack()\n",
    "run_counter(digit)\n",
    "\n",
    "root.mainloop()"
   ]
  },
  {
   "cell_type": "code",
   "execution_count": null,
   "metadata": {},
   "outputs": [],
   "source": []
  }
 ],
 "metadata": {
  "kernelspec": {
   "display_name": "Python 3",
   "language": "python",
   "name": "python3"
  },
  "language_info": {
   "codemirror_mode": {
    "name": "ipython",
    "version": 3
   },
   "file_extension": ".py",
   "mimetype": "text/x-python",
   "name": "python",
   "nbconvert_exporter": "python",
   "pygments_lexer": "ipython3",
   "version": "3.6.5"
  }
 },
 "nbformat": 4,
 "nbformat_minor": 2
}
